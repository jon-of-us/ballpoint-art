{
 "cells": [
  {
   "cell_type": "code",
   "execution_count": 7,
   "metadata": {},
   "outputs": [],
   "source": [
    "import numpy as np\n",
    "\n",
    "import PIL.Image\n",
    "import numpy as np\n",
    "from os import walk\n",
    "import scipy"
   ]
  },
  {
   "cell_type": "code",
   "execution_count": 4,
   "metadata": {},
   "outputs": [],
   "source": [
    "\n",
    "def files_in_folder(path):\n",
    "    \"\"\"yield relative path to all files in a directory\"\"\"\n",
    "    for dirpath, dirnames, filenames in walk(path):\n",
    "        for filename in filenames:\n",
    "            yield dirpath + \"/\" + filename\n"
   ]
  },
  {
   "cell_type": "code",
   "execution_count": 5,
   "metadata": {},
   "outputs": [],
   "source": [
    "def smur(im,n):\n",
    "    kernel = np.ones((n,n))\n",
    "    a = scipy.signal.convolve2d(kernel,)\n",
    "    print(a.shape)\n",
    "    return a"
   ]
  },
  {
   "cell_type": "code",
   "execution_count": 6,
   "metadata": {},
   "outputs": [
    {
     "ename": "ValueError",
     "evalue": "object too deep for desired array",
     "output_type": "error",
     "traceback": [
      "\u001b[1;31m---------------------------------------------------------------------------\u001b[0m",
      "\u001b[1;31mValueError\u001b[0m                                Traceback (most recent call last)",
      "\u001b[1;32md:\\InProgress\\Amp\\amplifier_test\\test.ipynb Cell 4\u001b[0m line \u001b[0;36m3\n\u001b[0;32m      <a href='vscode-notebook-cell:/d%3A/InProgress/Amp/amplifier_test/test.ipynb#W1sZmlsZQ%3D%3D?line=0'>1</a>\u001b[0m \u001b[39mfor\u001b[39;00m filepath \u001b[39min\u001b[39;00m files_in_folder(\u001b[39m\"\u001b[39m\u001b[39m./input\u001b[39m\u001b[39m\"\u001b[39m):\n\u001b[0;32m      <a href='vscode-notebook-cell:/d%3A/InProgress/Amp/amplifier_test/test.ipynb#W1sZmlsZQ%3D%3D?line=1'>2</a>\u001b[0m     in_arr \u001b[39m=\u001b[39m np\u001b[39m.\u001b[39masarray(PIL\u001b[39m.\u001b[39mImage\u001b[39m.\u001b[39mopen(filepath)\u001b[39m.\u001b[39mconvert(\u001b[39m\"\u001b[39m\u001b[39mL\u001b[39m\u001b[39m\"\u001b[39m))\n\u001b[1;32m----> <a href='vscode-notebook-cell:/d%3A/InProgress/Amp/amplifier_test/test.ipynb#W1sZmlsZQ%3D%3D?line=2'>3</a>\u001b[0m     out_arr \u001b[39m=\u001b[39m smur(in_arr,\u001b[39m20\u001b[39;49m)\n\u001b[0;32m      <a href='vscode-notebook-cell:/d%3A/InProgress/Amp/amplifier_test/test.ipynb#W1sZmlsZQ%3D%3D?line=3'>4</a>\u001b[0m     pil_image \u001b[39m=\u001b[39m PIL\u001b[39m.\u001b[39mImage\u001b[39m.\u001b[39mfromarray(np\u001b[39m.\u001b[39muint8(out_arr))\n\u001b[0;32m      <a href='vscode-notebook-cell:/d%3A/InProgress/Amp/amplifier_test/test.ipynb#W1sZmlsZQ%3D%3D?line=5'>6</a>\u001b[0m     out_path \u001b[39m=\u001b[39m \u001b[39m\"\u001b[39m\u001b[39m./output/\u001b[39m\u001b[39m\"\u001b[39m \u001b[39m+\u001b[39m filepath\u001b[39m.\u001b[39msplit(\u001b[39m\"\u001b[39m\u001b[39m/\u001b[39m\u001b[39m\"\u001b[39m)[\u001b[39m-\u001b[39m\u001b[39m1\u001b[39m]\n",
      "\u001b[1;32md:\\InProgress\\Amp\\amplifier_test\\test.ipynb Cell 4\u001b[0m line \u001b[0;36m3\n\u001b[0;32m      <a href='vscode-notebook-cell:/d%3A/InProgress/Amp/amplifier_test/test.ipynb#W1sZmlsZQ%3D%3D?line=0'>1</a>\u001b[0m \u001b[39mdef\u001b[39;00m \u001b[39msmur\u001b[39m(im,n):\n\u001b[0;32m      <a href='vscode-notebook-cell:/d%3A/InProgress/Amp/amplifier_test/test.ipynb#W1sZmlsZQ%3D%3D?line=1'>2</a>\u001b[0m     kernel \u001b[39m=\u001b[39m np\u001b[39m.\u001b[39mones((n,n))\n\u001b[1;32m----> <a href='vscode-notebook-cell:/d%3A/InProgress/Amp/amplifier_test/test.ipynb#W1sZmlsZQ%3D%3D?line=2'>3</a>\u001b[0m     a \u001b[39m=\u001b[39m np\u001b[39m.\u001b[39;49mconvolve(im,kernel)\n\u001b[0;32m      <a href='vscode-notebook-cell:/d%3A/InProgress/Amp/amplifier_test/test.ipynb#W1sZmlsZQ%3D%3D?line=3'>4</a>\u001b[0m     \u001b[39mprint\u001b[39m(a\u001b[39m.\u001b[39mshape)\n\u001b[0;32m      <a href='vscode-notebook-cell:/d%3A/InProgress/Amp/amplifier_test/test.ipynb#W1sZmlsZQ%3D%3D?line=4'>5</a>\u001b[0m     \u001b[39mreturn\u001b[39;00m a\n",
      "File \u001b[1;32m<__array_function__ internals>:200\u001b[0m, in \u001b[0;36mconvolve\u001b[1;34m(*args, **kwargs)\u001b[0m\n",
      "File \u001b[1;32mc:\\Users\\Arbeit\\AppData\\Local\\Programs\\Python\\Python311\\Lib\\site-packages\\numpy\\core\\numeric.py:851\u001b[0m, in \u001b[0;36mconvolve\u001b[1;34m(a, v, mode)\u001b[0m\n\u001b[0;32m    849\u001b[0m \u001b[39mif\u001b[39;00m \u001b[39mlen\u001b[39m(v) \u001b[39m==\u001b[39m \u001b[39m0\u001b[39m:\n\u001b[0;32m    850\u001b[0m     \u001b[39mraise\u001b[39;00m \u001b[39mValueError\u001b[39;00m(\u001b[39m'\u001b[39m\u001b[39mv cannot be empty\u001b[39m\u001b[39m'\u001b[39m)\n\u001b[1;32m--> 851\u001b[0m \u001b[39mreturn\u001b[39;00m multiarray\u001b[39m.\u001b[39;49mcorrelate(a, v[::\u001b[39m-\u001b[39;49m\u001b[39m1\u001b[39;49m], mode)\n",
      "\u001b[1;31mValueError\u001b[0m: object too deep for desired array"
     ]
    }
   ],
   "source": [
    "for filepath in files_in_folder(\"./input\"):\n",
    "    in_arr = np.asarray(PIL.Image.open(filepath).convert(\"L\"))\n",
    "    out_arr = smur(in_arr,20)\n",
    "    pil_image = PIL.Image.fromarray(np.uint8(out_arr))\n",
    "\n",
    "    out_path = \"./output/\" + filepath.split(\"/\")[-1]\n",
    "    pil_image.save(out_path)"
   ]
  },
  {
   "cell_type": "code",
   "execution_count": null,
   "metadata": {},
   "outputs": [],
   "source": []
  }
 ],
 "metadata": {
  "kernelspec": {
   "display_name": "Python 3",
   "language": "python",
   "name": "python3"
  },
  "language_info": {
   "codemirror_mode": {
    "name": "ipython",
    "version": 3
   },
   "file_extension": ".py",
   "mimetype": "text/x-python",
   "name": "python",
   "nbconvert_exporter": "python",
   "pygments_lexer": "ipython3",
   "version": "3.11.1"
  }
 },
 "nbformat": 4,
 "nbformat_minor": 2
}
